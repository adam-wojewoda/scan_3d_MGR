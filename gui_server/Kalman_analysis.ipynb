{
 "cells": [
  {
   "cell_type": "code",
   "execution_count": 1,
   "id": "2a70dfea-aba0-46b1-a5de-ae77b6e63f34",
   "metadata": {},
   "outputs": [],
   "source": [
    "#%matplotlib notebook\n",
    "%matplotlib widget"
   ]
  },
  {
   "cell_type": "code",
   "execution_count": 2,
   "id": "fefc201f-4d5f-471f-8fc1-d35471d4977c",
   "metadata": {},
   "outputs": [],
   "source": [
    "import ComunicationClasses.Database_collector"
   ]
  },
  {
   "cell_type": "code",
   "execution_count": 3,
   "id": "9744694c-9520-49d1-af3f-333eb9515acd",
   "metadata": {},
   "outputs": [],
   "source": [
    "import matplotlib.pyplot as plt"
   ]
  },
  {
   "cell_type": "code",
   "execution_count": 4,
   "id": "e6860da8-d6c7-4e96-bebb-89b0fff6123d",
   "metadata": {},
   "outputs": [],
   "source": [
    "import pandas as pd"
   ]
  },
  {
   "cell_type": "code",
   "execution_count": 21,
   "id": "5996dafd-da7d-401d-8ff9-c5b0338a68ec",
   "metadata": {},
   "outputs": [],
   "source": [
    "from math import pi\n",
    "from numpy import array\n",
    "from DataAnalysisClasses.SensorCurve3D import SensorCurve3D\n",
    "from DataAnalysisClasses.AngleCalculator import AngleCalculator\n",
    "from DataAnalysisClasses.KalmanFilter import KalmanFilter\n",
    "from DataAnalysisClasses.BiasCompensator import BiasCompensator\n",
    "from ComunicationClasses.Database_collector import Database_collector\n",
    "from DataAnalysisClasses.GeometryConstants import GeometryVectors"
   ]
  },
  {
   "cell_type": "code",
   "execution_count": 6,
   "id": "be90e337-841a-4d1c-893d-d2205ebd42a3",
   "metadata": {},
   "outputs": [
    {
     "data": {
      "text/plain": [
       "<contextlib.ExitStack at 0x7fec1ef12d70>"
      ]
     },
     "execution_count": 6,
     "metadata": {},
     "output_type": "execute_result"
    }
   ],
   "source": [
    "plt.ion()"
   ]
  },
  {
   "cell_type": "code",
   "execution_count": 7,
   "id": "734c7ebd-3c61-4465-9339-6a2a2b813f66",
   "metadata": {
    "tags": []
   },
   "outputs": [
    {
     "name": "stdout",
     "output_type": "stream",
     "text": [
      "Testing connection\n",
      "Server IP: localhost\n",
      "Connection ok\n"
     ]
    }
   ],
   "source": [
    "print('Testing connection')\n",
    "db_host_address = 'localhost'\n",
    "print('Server IP: ' + db_host_address)\n",
    "db_client = Database_collector()\n",
    "if not db_client.check_connection():\n",
    "    raise RuntimeError('No dataframe connection')\n",
    "else:\n",
    "    print('Connection ok')"
   ]
  },
  {
   "cell_type": "code",
   "execution_count": 8,
   "id": "5476c400-33fe-4251-8677-0228735d8148",
   "metadata": {},
   "outputs": [
    {
     "name": "stdout",
     "output_type": "stream",
     "text": [
      "List of databases:\n",
      "['scan_sensor_test']\n",
      "List of measurements:\n",
      "['ISM_330_raw', 'MPU_9255_raw', 'scanner_raw']\n"
     ]
    }
   ],
   "source": [
    "print('List of databases:')\n",
    "print(db_client.get_db_list())\n",
    "\n",
    "print('List of measurements:')\n",
    "print(db_client.get_measurements_list('scan_sensor_test'))"
   ]
  },
  {
   "cell_type": "code",
   "execution_count": 9,
   "id": "a6d0002e-c37d-4068-a9da-8c08a5e93df1",
   "metadata": {},
   "outputs": [],
   "source": [
    "bias = BiasCompensator('ISM_330', 'linear')\n",
    "translator = AngleCalculator()\n",
    "kalman = KalmanFilter()"
   ]
  },
  {
   "cell_type": "code",
   "execution_count": 10,
   "id": "f90517b9-1759-4744-a29b-fb4468ec3fd1",
   "metadata": {},
   "outputs": [],
   "source": [
    "data_in = db_client.get_measurement_data('scan_sensor_test', 'ISM_330_raw', 1644518082, 1644518106).dropna()"
   ]
  },
  {
   "cell_type": "code",
   "execution_count": 11,
   "id": "4747298b-9c28-4187-8781-c0ece4e36663",
   "metadata": {},
   "outputs": [],
   "source": [
    "data = data_in.copy()"
   ]
  },
  {
   "cell_type": "code",
   "execution_count": 12,
   "id": "0c95a85c-5838-4473-9175-55d5bcd005e3",
   "metadata": {},
   "outputs": [
    {
     "name": "stdout",
     "output_type": "stream",
     "text": [
      "{'x_gyro': 0.0, 'y_gyro': 0.0, 'z_gyro': 0.0, 'x_acc': -0.00885079, 'y_acc': -0.02427085, 'z_acc': -0.10525718}\n",
      "{'x_gyro': -0.3395010539463588, 'y_gyro': 0.3398405075073242, 'z_gyro': -0.019117069244384766, 'x_acc': -0.00885079, 'y_acc': -0.02427085, 'z_acc': -0.10525718}\n",
      "{'a_x_acc': 0.99672208, 'a_y_acc': 0.99807871, 'a_z_acc': 0.99786917, 'b_x_acc': -0.04897471, 'b_y_acc': 0.1070396, 'b_z_acc': -0.07113173}\n"
     ]
    }
   ],
   "source": [
    "# apply bias compensation to gyroscopes\n",
    "print(bias.bias_const)\n",
    "bias.set_gyro_const_bias(8000, data)\n",
    "# bias.set_acc_const_bias(8000, data)\n",
    "print(bias.bias_const)\n",
    "print(bias.bias_linear)\n",
    "\n",
    "data = data.drop(data.index[16000:])\n",
    "data = data.drop(data.index[:8000])"
   ]
  },
  {
   "cell_type": "code",
   "execution_count": 19,
   "id": "7f594fcc-41d4-4828-ac1d-92993ef54e3d",
   "metadata": {},
   "outputs": [
    {
     "name": "stdout",
     "output_type": "stream",
     "text": [
      "          acc_X     acc_Y     acc_Z    gyro_X    gyro_Y    gyro_Z  time_rel  \\\n",
      "count  8000.000  8000.000  8000.000  8000.000  8000.000  8000.000  8000.000   \n",
      "mean     -9.900    -0.316     0.047     0.841    -0.578     0.040    14.241   \n",
      "std       0.738     2.133     1.773    15.802     8.598    24.491     2.310   \n",
      "min     -12.997    -7.828    -7.927   -55.062   -38.961   -83.256    10.242   \n",
      "25%     -10.193    -0.632    -0.306    -1.105    -3.851    -6.775    12.242   \n",
      "50%      -9.809    -0.226     0.154     0.565    -0.402     0.031    14.241   \n",
      "75%      -9.645     0.034     0.287     5.121     2.260     4.836    16.241   \n",
      "max      -7.554     7.418     8.916    52.327    31.230    88.079    18.241   \n",
      "\n",
      "        acc_X_b   acc_Y_b   acc_Z_b  gyro_X_b  gyro_Y_b  gyro_Z_b  acc_phi  \\\n",
      "count  8000.000  8000.000  8000.000  8000.000  8000.000  8000.000      0.0   \n",
      "mean     -0.025    -0.209     9.916     0.021    -0.238    -0.502      NaN   \n",
      "std       1.769     2.129     0.736    24.491     8.598    15.802      NaN   \n",
      "min      -7.982    -7.706     7.578   -83.275   -38.621   -51.988      NaN   \n",
      "25%      -0.376    -0.524     9.663    -6.794    -3.511    -4.781      NaN   \n",
      "50%       0.083    -0.118     9.826     0.011    -0.062    -0.225      NaN   \n",
      "75%       0.215     0.141    10.208     4.816     2.599     1.444      NaN   \n",
      "max       8.826     7.511    13.003    88.060    31.569    55.402      NaN   \n",
      "\n",
      "       acc_theta  \n",
      "count        0.0  \n",
      "mean         NaN  \n",
      "std          NaN  \n",
      "min          NaN  \n",
      "25%          NaN  \n",
      "50%          NaN  \n",
      "75%          NaN  \n",
      "max          NaN  \n"
     ]
    }
   ],
   "source": [
    "with pd.option_context('display.max_rows', None, 'display.max_columns', None,\n",
    "                       'display.precision', 3):\n",
    "    print(data.describe())\n",
    "    "
   ]
  },
  {
   "cell_type": "code",
   "execution_count": 14,
   "id": "095f2593-28f1-43f5-8809-902de02bb1ab",
   "metadata": {},
   "outputs": [],
   "source": [
    "data = bias.apply_bias(data)\n",
    "data_tmp = data.copy()"
   ]
  },
  {
   "cell_type": "code",
   "execution_count": 17,
   "id": "8fc9993f-58a8-44bc-b52b-b85a7669f620",
   "metadata": {},
   "outputs": [],
   "source": [
    "data['acc_X_b'] = data_tmp['acc_Z_b']\n",
    "data['acc_Z_b'] = data_tmp['acc_X_b'] * (-1.0)\n",
    "data['gyro_X_b'] = data_tmp['gyro_Z_b']\n",
    "data['gyro_Z_b'] = data_tmp['gyro_X_b'] * (-1.0)"
   ]
  },
  {
   "cell_type": "code",
   "execution_count": 22,
   "id": "9fe3deb4-5faa-4b3a-95b2-279ecc6ec16f",
   "metadata": {},
   "outputs": [
    {
     "ename": "KeyError",
     "evalue": "\"None of [Index(['gyro_X_b_der', 'gyro_Y_b_der', 'gyro_Z_b_der'], dtype='object')] are in the [columns]\"",
     "output_type": "error",
     "traceback": [
      "\u001b[0;31m---------------------------------------------------------------------------\u001b[0m",
      "\u001b[0;31mKeyError\u001b[0m                                  Traceback (most recent call last)",
      "Cell \u001b[0;32mIn[22], line 3\u001b[0m\n\u001b[1;32m      1\u001b[0m \u001b[38;5;66;03m# Translate acceleration to scanner zero point\u001b[39;00m\n\u001b[1;32m      2\u001b[0m device_geometry \u001b[38;5;241m=\u001b[39m GeometryVectors()\n\u001b[0;32m----> 3\u001b[0m data\u001b[38;5;241m=\u001b[39m\u001b[43mdevice_geometry\u001b[49m\u001b[38;5;241;43m.\u001b[39;49m\u001b[43mtranslate_acceleration_vect\u001b[49m\u001b[43m(\u001b[49m\u001b[43mdf_in\u001b[49m\u001b[38;5;241;43m=\u001b[39;49m\u001b[43mdata\u001b[49m\u001b[43m,\u001b[49m\u001b[43m \u001b[49m\n\u001b[1;32m      4\u001b[0m \u001b[43m                                                      \u001b[49m\u001b[43msensor\u001b[49m\u001b[38;5;241;43m=\u001b[39;49m\u001b[38;5;124;43m'\u001b[39;49m\u001b[38;5;124;43mISM_330\u001b[39;49m\u001b[38;5;124;43m'\u001b[39;49m\u001b[43m,\u001b[49m\u001b[43m \u001b[49m\n\u001b[1;32m      5\u001b[0m \u001b[43m                                                      \u001b[49m\u001b[43macc_names\u001b[49m\u001b[38;5;241;43m=\u001b[39;49m\u001b[43m[\u001b[49m\u001b[38;5;124;43m'\u001b[39;49m\u001b[38;5;124;43macc_X_b\u001b[39;49m\u001b[38;5;124;43m'\u001b[39;49m\u001b[43m,\u001b[49m\u001b[38;5;124;43m'\u001b[39;49m\u001b[38;5;124;43macc_Y_b\u001b[39;49m\u001b[38;5;124;43m'\u001b[39;49m\u001b[43m,\u001b[49m\u001b[38;5;124;43m'\u001b[39;49m\u001b[38;5;124;43macc_Z_b\u001b[39;49m\u001b[38;5;124;43m'\u001b[39;49m\u001b[43m]\u001b[49m\u001b[43m,\u001b[49m\u001b[43m \u001b[49m\n\u001b[1;32m      6\u001b[0m \u001b[43m                                                      \u001b[49m\u001b[43mgyro_names\u001b[49m\u001b[38;5;241;43m=\u001b[39;49m\u001b[43m[\u001b[49m\u001b[38;5;124;43m'\u001b[39;49m\u001b[38;5;124;43mgyro_X_b\u001b[39;49m\u001b[38;5;124;43m'\u001b[39;49m\u001b[43m,\u001b[49m\u001b[38;5;124;43m'\u001b[39;49m\u001b[38;5;124;43mgyro_Y_b\u001b[39;49m\u001b[38;5;124;43m'\u001b[39;49m\u001b[43m,\u001b[49m\u001b[38;5;124;43m'\u001b[39;49m\u001b[38;5;124;43mgyro_Z_b\u001b[39;49m\u001b[38;5;124;43m'\u001b[39;49m\u001b[43m]\u001b[49m\u001b[43m,\u001b[49m\u001b[43m \u001b[49m\n\u001b[1;32m      7\u001b[0m \u001b[43m                                                      \u001b[49m\u001b[43mgyro_der_names\u001b[49m\u001b[38;5;241;43m=\u001b[39;49m\u001b[43m[\u001b[49m\u001b[38;5;124;43m'\u001b[39;49m\u001b[38;5;124;43mgyro_X_b_der\u001b[39;49m\u001b[38;5;124;43m'\u001b[39;49m\u001b[43m,\u001b[49m\u001b[38;5;124;43m'\u001b[39;49m\u001b[38;5;124;43mgyro_Y_b_der\u001b[39;49m\u001b[38;5;124;43m'\u001b[39;49m\u001b[43m,\u001b[49m\u001b[38;5;124;43m'\u001b[39;49m\u001b[38;5;124;43mgyro_Z_b_der\u001b[39;49m\u001b[38;5;124;43m'\u001b[39;49m\u001b[43m]\u001b[49m\u001b[43m,\u001b[49m\u001b[43m \u001b[49m\n\u001b[1;32m      8\u001b[0m \u001b[43m                                                      \u001b[49m\u001b[43moutput_names\u001b[49m\u001b[38;5;241;43m=\u001b[39;49m\u001b[43m[\u001b[49m\u001b[38;5;124;43m'\u001b[39;49m\u001b[38;5;124;43macc_X_t\u001b[39;49m\u001b[38;5;124;43m'\u001b[39;49m\u001b[43m,\u001b[49m\u001b[38;5;124;43m'\u001b[39;49m\u001b[38;5;124;43macc_Y_t\u001b[39;49m\u001b[38;5;124;43m'\u001b[39;49m\u001b[43m,\u001b[49m\u001b[38;5;124;43m'\u001b[39;49m\u001b[38;5;124;43macc_Z_t\u001b[39;49m\u001b[38;5;124;43m'\u001b[39;49m\u001b[43m]\u001b[49m\u001b[43m,\u001b[49m\u001b[43m \u001b[49m\n\u001b[1;32m      9\u001b[0m \u001b[43m                                                      \u001b[49m\u001b[43mang_unit\u001b[49m\u001b[38;5;241;43m=\u001b[39;49m\u001b[38;5;124;43m'\u001b[39;49m\u001b[38;5;124;43mdeg\u001b[39;49m\u001b[38;5;124;43m'\u001b[39;49m\u001b[43m)\u001b[49m\n\u001b[1;32m     10\u001b[0m \u001b[38;5;66;03m#data_trans_ISM.drop(['mean_acc_X_b','mean_acc_Y_b','mean_acc_Z_b','mean_gyro_X_b_der','mean_gyro_Y_b_der','mean_gyro_Z_b_der'])\u001b[39;00m\n",
      "File \u001b[0;32m/media/adam/DATA/Projekty/Praca_mgr/scan_3d_MGR/gui_server/DataAnalysisClasses/GeometryConstants.py:89\u001b[0m, in \u001b[0;36mGeometryVectors.translate_acceleration_vect\u001b[0;34m(self, df_in, sensor, acc_names, gyro_names, gyro_der_names, output_names, ang_unit)\u001b[0m\n\u001b[1;32m     86\u001b[0m a_b_0 \u001b[38;5;241m=\u001b[39m df_in[acc_names]\u001b[38;5;241m.\u001b[39mto_numpy()\n\u001b[1;32m     87\u001b[0m a_b \u001b[38;5;241m=\u001b[39m [{\u001b[38;5;124m'\u001b[39m\u001b[38;5;124ma_b\u001b[39m\u001b[38;5;124m'\u001b[39m:x} \u001b[38;5;28;01mfor\u001b[39;00m x \u001b[38;5;129;01min\u001b[39;00m a_b_0]\n\u001b[0;32m---> 89\u001b[0m w_der_0 \u001b[38;5;241m=\u001b[39m \u001b[43mdf_in\u001b[49m\u001b[43m[\u001b[49m\u001b[43mgyro_der_names\u001b[49m\u001b[43m]\u001b[49m\u001b[38;5;241m.\u001b[39mto_numpy() \u001b[38;5;241m*\u001b[39m mult\n\u001b[1;32m     90\u001b[0m w_der \u001b[38;5;241m=\u001b[39m [{\u001b[38;5;124m'\u001b[39m\u001b[38;5;124mw_der\u001b[39m\u001b[38;5;124m'\u001b[39m:x} \u001b[38;5;28;01mfor\u001b[39;00m x \u001b[38;5;129;01min\u001b[39;00m w_der_0]\n\u001b[1;32m     92\u001b[0m w_0 \u001b[38;5;241m=\u001b[39m df_in[gyro_names]\u001b[38;5;241m.\u001b[39mto_numpy() \u001b[38;5;241m*\u001b[39m mult\n",
      "File \u001b[0;32m~/.local/lib/python3.10/site-packages/pandas/core/frame.py:3767\u001b[0m, in \u001b[0;36mDataFrame.__getitem__\u001b[0;34m(self, key)\u001b[0m\n\u001b[1;32m   3765\u001b[0m     \u001b[38;5;28;01mif\u001b[39;00m is_iterator(key):\n\u001b[1;32m   3766\u001b[0m         key \u001b[38;5;241m=\u001b[39m \u001b[38;5;28mlist\u001b[39m(key)\n\u001b[0;32m-> 3767\u001b[0m     indexer \u001b[38;5;241m=\u001b[39m \u001b[38;5;28;43mself\u001b[39;49m\u001b[38;5;241;43m.\u001b[39;49m\u001b[43mcolumns\u001b[49m\u001b[38;5;241;43m.\u001b[39;49m\u001b[43m_get_indexer_strict\u001b[49m\u001b[43m(\u001b[49m\u001b[43mkey\u001b[49m\u001b[43m,\u001b[49m\u001b[43m \u001b[49m\u001b[38;5;124;43m\"\u001b[39;49m\u001b[38;5;124;43mcolumns\u001b[39;49m\u001b[38;5;124;43m\"\u001b[39;49m\u001b[43m)\u001b[49m[\u001b[38;5;241m1\u001b[39m]\n\u001b[1;32m   3769\u001b[0m \u001b[38;5;66;03m# take() does not accept boolean indexers\u001b[39;00m\n\u001b[1;32m   3770\u001b[0m \u001b[38;5;28;01mif\u001b[39;00m \u001b[38;5;28mgetattr\u001b[39m(indexer, \u001b[38;5;124m\"\u001b[39m\u001b[38;5;124mdtype\u001b[39m\u001b[38;5;124m\"\u001b[39m, \u001b[38;5;28;01mNone\u001b[39;00m) \u001b[38;5;241m==\u001b[39m \u001b[38;5;28mbool\u001b[39m:\n",
      "File \u001b[0;32m~/.local/lib/python3.10/site-packages/pandas/core/indexes/base.py:5876\u001b[0m, in \u001b[0;36mIndex._get_indexer_strict\u001b[0;34m(self, key, axis_name)\u001b[0m\n\u001b[1;32m   5873\u001b[0m \u001b[38;5;28;01melse\u001b[39;00m:\n\u001b[1;32m   5874\u001b[0m     keyarr, indexer, new_indexer \u001b[38;5;241m=\u001b[39m \u001b[38;5;28mself\u001b[39m\u001b[38;5;241m.\u001b[39m_reindex_non_unique(keyarr)\n\u001b[0;32m-> 5876\u001b[0m \u001b[38;5;28;43mself\u001b[39;49m\u001b[38;5;241;43m.\u001b[39;49m\u001b[43m_raise_if_missing\u001b[49m\u001b[43m(\u001b[49m\u001b[43mkeyarr\u001b[49m\u001b[43m,\u001b[49m\u001b[43m \u001b[49m\u001b[43mindexer\u001b[49m\u001b[43m,\u001b[49m\u001b[43m \u001b[49m\u001b[43maxis_name\u001b[49m\u001b[43m)\u001b[49m\n\u001b[1;32m   5878\u001b[0m keyarr \u001b[38;5;241m=\u001b[39m \u001b[38;5;28mself\u001b[39m\u001b[38;5;241m.\u001b[39mtake(indexer)\n\u001b[1;32m   5879\u001b[0m \u001b[38;5;28;01mif\u001b[39;00m \u001b[38;5;28misinstance\u001b[39m(key, Index):\n\u001b[1;32m   5880\u001b[0m     \u001b[38;5;66;03m# GH 42790 - Preserve name from an Index\u001b[39;00m\n",
      "File \u001b[0;32m~/.local/lib/python3.10/site-packages/pandas/core/indexes/base.py:5935\u001b[0m, in \u001b[0;36mIndex._raise_if_missing\u001b[0;34m(self, key, indexer, axis_name)\u001b[0m\n\u001b[1;32m   5933\u001b[0m     \u001b[38;5;28;01mif\u001b[39;00m use_interval_msg:\n\u001b[1;32m   5934\u001b[0m         key \u001b[38;5;241m=\u001b[39m \u001b[38;5;28mlist\u001b[39m(key)\n\u001b[0;32m-> 5935\u001b[0m     \u001b[38;5;28;01mraise\u001b[39;00m \u001b[38;5;167;01mKeyError\u001b[39;00m(\u001b[38;5;124mf\u001b[39m\u001b[38;5;124m\"\u001b[39m\u001b[38;5;124mNone of [\u001b[39m\u001b[38;5;132;01m{\u001b[39;00mkey\u001b[38;5;132;01m}\u001b[39;00m\u001b[38;5;124m] are in the [\u001b[39m\u001b[38;5;132;01m{\u001b[39;00maxis_name\u001b[38;5;132;01m}\u001b[39;00m\u001b[38;5;124m]\u001b[39m\u001b[38;5;124m\"\u001b[39m)\n\u001b[1;32m   5937\u001b[0m not_found \u001b[38;5;241m=\u001b[39m \u001b[38;5;28mlist\u001b[39m(ensure_index(key)[missing_mask\u001b[38;5;241m.\u001b[39mnonzero()[\u001b[38;5;241m0\u001b[39m]]\u001b[38;5;241m.\u001b[39munique())\n\u001b[1;32m   5938\u001b[0m \u001b[38;5;28;01mraise\u001b[39;00m \u001b[38;5;167;01mKeyError\u001b[39;00m(\u001b[38;5;124mf\u001b[39m\u001b[38;5;124m\"\u001b[39m\u001b[38;5;132;01m{\u001b[39;00mnot_found\u001b[38;5;132;01m}\u001b[39;00m\u001b[38;5;124m not in index\u001b[39m\u001b[38;5;124m\"\u001b[39m)\n",
      "\u001b[0;31mKeyError\u001b[0m: \"None of [Index(['gyro_X_b_der', 'gyro_Y_b_der', 'gyro_Z_b_der'], dtype='object')] are in the [columns]\""
     ]
    }
   ],
   "source": [
    "# Translate acceleration to scanner zero point\n",
    "device_geometry = GeometryVectors()\n",
    "data=device_geometry.translate_acceleration_vect(df_in=data, \n",
    "                                                      sensor='ISM_330', \n",
    "                                                      acc_names=['acc_X_b','acc_Y_b','acc_Z_b'], \n",
    "                                                      gyro_names=['gyro_X_b','gyro_Y_b','gyro_Z_b'], \n",
    "                                                      gyro_der_names=['gyro_X_b_der','gyro_Y_b_der','gyro_Z_b_der'], \n",
    "                                                      output_names=['acc_X_t','acc_Y_t','acc_Z_t'], \n",
    "                                                      ang_unit='deg')\n",
    "#data_trans_ISM.drop(['mean_acc_X_b','mean_acc_Y_b','mean_acc_Z_b','mean_gyro_X_b_der','mean_gyro_Y_b_der','mean_gyro_Z_b_der'])\n"
   ]
  },
  {
   "cell_type": "code",
   "execution_count": 16,
   "id": "d12c9862-f47c-450b-bf47-517b28d8db80",
   "metadata": {},
   "outputs": [
    {
     "ename": "KeyError",
     "evalue": "'acc_Y_t'",
     "output_type": "error",
     "traceback": [
      "\u001b[0;31m---------------------------------------------------------------------------\u001b[0m",
      "\u001b[0;31mKeyError\u001b[0m                                  Traceback (most recent call last)",
      "File \u001b[0;32m~/.local/lib/python3.10/site-packages/pandas/core/indexes/base.py:3652\u001b[0m, in \u001b[0;36mIndex.get_loc\u001b[0;34m(self, key)\u001b[0m\n\u001b[1;32m   3651\u001b[0m \u001b[38;5;28;01mtry\u001b[39;00m:\n\u001b[0;32m-> 3652\u001b[0m     \u001b[38;5;28;01mreturn\u001b[39;00m \u001b[38;5;28;43mself\u001b[39;49m\u001b[38;5;241;43m.\u001b[39;49m\u001b[43m_engine\u001b[49m\u001b[38;5;241;43m.\u001b[39;49m\u001b[43mget_loc\u001b[49m\u001b[43m(\u001b[49m\u001b[43mcasted_key\u001b[49m\u001b[43m)\u001b[49m\n\u001b[1;32m   3653\u001b[0m \u001b[38;5;28;01mexcept\u001b[39;00m \u001b[38;5;167;01mKeyError\u001b[39;00m \u001b[38;5;28;01mas\u001b[39;00m err:\n",
      "File \u001b[0;32m~/.local/lib/python3.10/site-packages/pandas/_libs/index.pyx:147\u001b[0m, in \u001b[0;36mpandas._libs.index.IndexEngine.get_loc\u001b[0;34m()\u001b[0m\n",
      "File \u001b[0;32m~/.local/lib/python3.10/site-packages/pandas/_libs/index.pyx:176\u001b[0m, in \u001b[0;36mpandas._libs.index.IndexEngine.get_loc\u001b[0;34m()\u001b[0m\n",
      "File \u001b[0;32mpandas/_libs/hashtable_class_helper.pxi:7080\u001b[0m, in \u001b[0;36mpandas._libs.hashtable.PyObjectHashTable.get_item\u001b[0;34m()\u001b[0m\n",
      "File \u001b[0;32mpandas/_libs/hashtable_class_helper.pxi:7088\u001b[0m, in \u001b[0;36mpandas._libs.hashtable.PyObjectHashTable.get_item\u001b[0;34m()\u001b[0m\n",
      "\u001b[0;31mKeyError\u001b[0m: 'acc_Y_t'",
      "\nThe above exception was the direct cause of the following exception:\n",
      "\u001b[0;31mKeyError\u001b[0m                                  Traceback (most recent call last)",
      "Cell \u001b[0;32mIn[16], line 2\u001b[0m\n\u001b[1;32m      1\u001b[0m \u001b[38;5;66;03m# calculate phi and theta from accelerometers data\u001b[39;00m\n\u001b[0;32m----> 2\u001b[0m data \u001b[38;5;241m=\u001b[39m \u001b[43mtranslator\u001b[49m\u001b[38;5;241;43m.\u001b[39;49m\u001b[43mcalculate_angles_1\u001b[49m\u001b[43m(\u001b[49m\u001b[43mdata\u001b[49m\u001b[43m)\u001b[49m\n\u001b[1;32m      3\u001b[0m \u001b[38;5;66;03m# apply \"Kalman filter\" to phi and theta calculations (also get psi as an integral)\u001b[39;00m\n\u001b[1;32m      4\u001b[0m data \u001b[38;5;241m=\u001b[39m kalman\u001b[38;5;241m.\u001b[39mapply_kalman(data, extra\u001b[38;5;241m=\u001b[39m\u001b[38;5;28;01mTrue\u001b[39;00m)\n",
      "File \u001b[0;32m/media/adam/DATA/Projekty/Praca_mgr/scan_3d_MGR/gui_server/DataAnalysisClasses/AngleCalculator.py:68\u001b[0m, in \u001b[0;36mAngleCalculator.calculate_angles_1\u001b[0;34m(self, df_in)\u001b[0m\n\u001b[1;32m     66\u001b[0m df_in[\u001b[38;5;124m'\u001b[39m\u001b[38;5;124macc_phi\u001b[39m\u001b[38;5;124m'\u001b[39m] \u001b[38;5;241m=\u001b[39m nan\n\u001b[1;32m     67\u001b[0m df_in[\u001b[38;5;124m'\u001b[39m\u001b[38;5;124macc_theta\u001b[39m\u001b[38;5;124m'\u001b[39m] \u001b[38;5;241m=\u001b[39m nan\n\u001b[0;32m---> 68\u001b[0m \u001b[38;5;28;01mreturn\u001b[39;00m \u001b[43mdf_in\u001b[49m\u001b[38;5;241;43m.\u001b[39;49m\u001b[43mapply\u001b[49m\u001b[43m(\u001b[49m\u001b[38;5;28;43;01mlambda\u001b[39;49;00m\u001b[43m \u001b[49m\u001b[43mrow\u001b[49m\u001b[43m:\u001b[49m\u001b[43m \u001b[49m\u001b[38;5;28;43mself\u001b[39;49m\u001b[38;5;241;43m.\u001b[39;49m\u001b[43mget_acc_angles\u001b[49m\u001b[43m(\u001b[49m\u001b[43mrow\u001b[49m\u001b[43m)\u001b[49m\u001b[43m,\u001b[49m\u001b[43m \u001b[49m\u001b[43maxis\u001b[49m\u001b[38;5;241;43m=\u001b[39;49m\u001b[38;5;241;43m1\u001b[39;49m\u001b[43m)\u001b[49m\n",
      "File \u001b[0;32m~/.local/lib/python3.10/site-packages/pandas/core/frame.py:9423\u001b[0m, in \u001b[0;36mDataFrame.apply\u001b[0;34m(self, func, axis, raw, result_type, args, **kwargs)\u001b[0m\n\u001b[1;32m   9412\u001b[0m \u001b[38;5;28;01mfrom\u001b[39;00m \u001b[38;5;21;01mpandas\u001b[39;00m\u001b[38;5;21;01m.\u001b[39;00m\u001b[38;5;21;01mcore\u001b[39;00m\u001b[38;5;21;01m.\u001b[39;00m\u001b[38;5;21;01mapply\u001b[39;00m \u001b[38;5;28;01mimport\u001b[39;00m frame_apply\n\u001b[1;32m   9414\u001b[0m op \u001b[38;5;241m=\u001b[39m frame_apply(\n\u001b[1;32m   9415\u001b[0m     \u001b[38;5;28mself\u001b[39m,\n\u001b[1;32m   9416\u001b[0m     func\u001b[38;5;241m=\u001b[39mfunc,\n\u001b[0;32m   (...)\u001b[0m\n\u001b[1;32m   9421\u001b[0m     kwargs\u001b[38;5;241m=\u001b[39mkwargs,\n\u001b[1;32m   9422\u001b[0m )\n\u001b[0;32m-> 9423\u001b[0m \u001b[38;5;28;01mreturn\u001b[39;00m \u001b[43mop\u001b[49m\u001b[38;5;241;43m.\u001b[39;49m\u001b[43mapply\u001b[49m\u001b[43m(\u001b[49m\u001b[43m)\u001b[49m\u001b[38;5;241m.\u001b[39m__finalize__(\u001b[38;5;28mself\u001b[39m, method\u001b[38;5;241m=\u001b[39m\u001b[38;5;124m\"\u001b[39m\u001b[38;5;124mapply\u001b[39m\u001b[38;5;124m\"\u001b[39m)\n",
      "File \u001b[0;32m~/.local/lib/python3.10/site-packages/pandas/core/apply.py:678\u001b[0m, in \u001b[0;36mFrameApply.apply\u001b[0;34m(self)\u001b[0m\n\u001b[1;32m    675\u001b[0m \u001b[38;5;28;01melif\u001b[39;00m \u001b[38;5;28mself\u001b[39m\u001b[38;5;241m.\u001b[39mraw:\n\u001b[1;32m    676\u001b[0m     \u001b[38;5;28;01mreturn\u001b[39;00m \u001b[38;5;28mself\u001b[39m\u001b[38;5;241m.\u001b[39mapply_raw()\n\u001b[0;32m--> 678\u001b[0m \u001b[38;5;28;01mreturn\u001b[39;00m \u001b[38;5;28;43mself\u001b[39;49m\u001b[38;5;241;43m.\u001b[39;49m\u001b[43mapply_standard\u001b[49m\u001b[43m(\u001b[49m\u001b[43m)\u001b[49m\n",
      "File \u001b[0;32m~/.local/lib/python3.10/site-packages/pandas/core/apply.py:798\u001b[0m, in \u001b[0;36mFrameApply.apply_standard\u001b[0;34m(self)\u001b[0m\n\u001b[1;32m    797\u001b[0m \u001b[38;5;28;01mdef\u001b[39;00m \u001b[38;5;21mapply_standard\u001b[39m(\u001b[38;5;28mself\u001b[39m):\n\u001b[0;32m--> 798\u001b[0m     results, res_index \u001b[38;5;241m=\u001b[39m \u001b[38;5;28;43mself\u001b[39;49m\u001b[38;5;241;43m.\u001b[39;49m\u001b[43mapply_series_generator\u001b[49m\u001b[43m(\u001b[49m\u001b[43m)\u001b[49m\n\u001b[1;32m    800\u001b[0m     \u001b[38;5;66;03m# wrap results\u001b[39;00m\n\u001b[1;32m    801\u001b[0m     \u001b[38;5;28;01mreturn\u001b[39;00m \u001b[38;5;28mself\u001b[39m\u001b[38;5;241m.\u001b[39mwrap_results(results, res_index)\n",
      "File \u001b[0;32m~/.local/lib/python3.10/site-packages/pandas/core/apply.py:814\u001b[0m, in \u001b[0;36mFrameApply.apply_series_generator\u001b[0;34m(self)\u001b[0m\n\u001b[1;32m    811\u001b[0m \u001b[38;5;28;01mwith\u001b[39;00m option_context(\u001b[38;5;124m\"\u001b[39m\u001b[38;5;124mmode.chained_assignment\u001b[39m\u001b[38;5;124m\"\u001b[39m, \u001b[38;5;28;01mNone\u001b[39;00m):\n\u001b[1;32m    812\u001b[0m     \u001b[38;5;28;01mfor\u001b[39;00m i, v \u001b[38;5;129;01min\u001b[39;00m \u001b[38;5;28menumerate\u001b[39m(series_gen):\n\u001b[1;32m    813\u001b[0m         \u001b[38;5;66;03m# ignore SettingWithCopy here in case the user mutates\u001b[39;00m\n\u001b[0;32m--> 814\u001b[0m         results[i] \u001b[38;5;241m=\u001b[39m \u001b[38;5;28;43mself\u001b[39;49m\u001b[38;5;241;43m.\u001b[39;49m\u001b[43mf\u001b[49m\u001b[43m(\u001b[49m\u001b[43mv\u001b[49m\u001b[43m)\u001b[49m\n\u001b[1;32m    815\u001b[0m         \u001b[38;5;28;01mif\u001b[39;00m \u001b[38;5;28misinstance\u001b[39m(results[i], ABCSeries):\n\u001b[1;32m    816\u001b[0m             \u001b[38;5;66;03m# If we have a view on v, we need to make a copy because\u001b[39;00m\n\u001b[1;32m    817\u001b[0m             \u001b[38;5;66;03m#  series_generator will swap out the underlying data\u001b[39;00m\n\u001b[1;32m    818\u001b[0m             results[i] \u001b[38;5;241m=\u001b[39m results[i]\u001b[38;5;241m.\u001b[39mcopy(deep\u001b[38;5;241m=\u001b[39m\u001b[38;5;28;01mFalse\u001b[39;00m)\n",
      "File \u001b[0;32m/media/adam/DATA/Projekty/Praca_mgr/scan_3d_MGR/gui_server/DataAnalysisClasses/AngleCalculator.py:68\u001b[0m, in \u001b[0;36mAngleCalculator.calculate_angles_1.<locals>.<lambda>\u001b[0;34m(row)\u001b[0m\n\u001b[1;32m     66\u001b[0m df_in[\u001b[38;5;124m'\u001b[39m\u001b[38;5;124macc_phi\u001b[39m\u001b[38;5;124m'\u001b[39m] \u001b[38;5;241m=\u001b[39m nan\n\u001b[1;32m     67\u001b[0m df_in[\u001b[38;5;124m'\u001b[39m\u001b[38;5;124macc_theta\u001b[39m\u001b[38;5;124m'\u001b[39m] \u001b[38;5;241m=\u001b[39m nan\n\u001b[0;32m---> 68\u001b[0m \u001b[38;5;28;01mreturn\u001b[39;00m df_in\u001b[38;5;241m.\u001b[39mapply(\u001b[38;5;28;01mlambda\u001b[39;00m row: \u001b[38;5;28;43mself\u001b[39;49m\u001b[38;5;241;43m.\u001b[39;49m\u001b[43mget_acc_angles\u001b[49m\u001b[43m(\u001b[49m\u001b[43mrow\u001b[49m\u001b[43m)\u001b[49m, axis\u001b[38;5;241m=\u001b[39m\u001b[38;5;241m1\u001b[39m)\n",
      "File \u001b[0;32m/media/adam/DATA/Projekty/Praca_mgr/scan_3d_MGR/gui_server/DataAnalysisClasses/AngleCalculator.py:57\u001b[0m, in \u001b[0;36mAngleCalculator.get_acc_angles\u001b[0;34m(row, acc_names)\u001b[0m\n\u001b[1;32m     54\u001b[0m \u001b[38;5;129m@staticmethod\u001b[39m\n\u001b[1;32m     55\u001b[0m \u001b[38;5;28;01mdef\u001b[39;00m \u001b[38;5;21mget_acc_angles\u001b[39m(row, acc_names\u001b[38;5;241m=\u001b[39m[\u001b[38;5;124m'\u001b[39m\u001b[38;5;124macc_X_t\u001b[39m\u001b[38;5;124m'\u001b[39m, \u001b[38;5;124m'\u001b[39m\u001b[38;5;124macc_Y_t\u001b[39m\u001b[38;5;124m'\u001b[39m, \u001b[38;5;124m'\u001b[39m\u001b[38;5;124macc_Z_t\u001b[39m\u001b[38;5;124m'\u001b[39m]):\n\u001b[1;32m     56\u001b[0m     \u001b[38;5;66;03m# print(row[acc_names[0]],' ',row[acc_names[1]], ' ',row[acc_names[2]])\u001b[39;00m\n\u001b[0;32m---> 57\u001b[0m     row[\u001b[38;5;124m'\u001b[39m\u001b[38;5;124macc_phi\u001b[39m\u001b[38;5;124m'\u001b[39m] \u001b[38;5;241m=\u001b[39m atan2(\u001b[43mrow\u001b[49m\u001b[43m[\u001b[49m\u001b[43macc_names\u001b[49m\u001b[43m[\u001b[49m\u001b[38;5;241;43m1\u001b[39;49m\u001b[43m]\u001b[49m\u001b[43m]\u001b[49m,\n\u001b[1;32m     58\u001b[0m                            sqrt(row[acc_names[\u001b[38;5;241m0\u001b[39m]] \u001b[38;5;241m*\u001b[39m\u001b[38;5;241m*\u001b[39m \u001b[38;5;241m2.0\u001b[39m \u001b[38;5;241m+\u001b[39m row[acc_names[\u001b[38;5;241m2\u001b[39m]] \u001b[38;5;241m*\u001b[39m\u001b[38;5;241m*\u001b[39m \u001b[38;5;241m2.0\u001b[39m))\n\u001b[1;32m     59\u001b[0m     \u001b[38;5;66;03m# print(row['acc_phi'])\u001b[39;00m\n\u001b[1;32m     60\u001b[0m     row[\u001b[38;5;124m'\u001b[39m\u001b[38;5;124macc_theta\u001b[39m\u001b[38;5;124m'\u001b[39m] \u001b[38;5;241m=\u001b[39m atan2(\u001b[38;5;241m-\u001b[39mrow[acc_names[\u001b[38;5;241m0\u001b[39m]],\n\u001b[1;32m     61\u001b[0m                              sqrt(row[acc_names[\u001b[38;5;241m1\u001b[39m]] \u001b[38;5;241m*\u001b[39m\u001b[38;5;241m*\u001b[39m \u001b[38;5;241m2.0\u001b[39m \u001b[38;5;241m+\u001b[39m row[acc_names[\u001b[38;5;241m2\u001b[39m]] \u001b[38;5;241m*\u001b[39m\u001b[38;5;241m*\u001b[39m \u001b[38;5;241m2.0\u001b[39m))\n",
      "File \u001b[0;32m~/.local/lib/python3.10/site-packages/pandas/core/series.py:1007\u001b[0m, in \u001b[0;36mSeries.__getitem__\u001b[0;34m(self, key)\u001b[0m\n\u001b[1;32m   1004\u001b[0m     \u001b[38;5;28;01mreturn\u001b[39;00m \u001b[38;5;28mself\u001b[39m\u001b[38;5;241m.\u001b[39m_values[key]\n\u001b[1;32m   1006\u001b[0m \u001b[38;5;28;01melif\u001b[39;00m key_is_scalar:\n\u001b[0;32m-> 1007\u001b[0m     \u001b[38;5;28;01mreturn\u001b[39;00m \u001b[38;5;28;43mself\u001b[39;49m\u001b[38;5;241;43m.\u001b[39;49m\u001b[43m_get_value\u001b[49m\u001b[43m(\u001b[49m\u001b[43mkey\u001b[49m\u001b[43m)\u001b[49m\n\u001b[1;32m   1009\u001b[0m \u001b[38;5;28;01mif\u001b[39;00m is_hashable(key):\n\u001b[1;32m   1010\u001b[0m     \u001b[38;5;66;03m# Otherwise index.get_value will raise InvalidIndexError\u001b[39;00m\n\u001b[1;32m   1011\u001b[0m     \u001b[38;5;28;01mtry\u001b[39;00m:\n\u001b[1;32m   1012\u001b[0m         \u001b[38;5;66;03m# For labels that don't resolve as scalars like tuples and frozensets\u001b[39;00m\n",
      "File \u001b[0;32m~/.local/lib/python3.10/site-packages/pandas/core/series.py:1116\u001b[0m, in \u001b[0;36mSeries._get_value\u001b[0;34m(self, label, takeable)\u001b[0m\n\u001b[1;32m   1113\u001b[0m     \u001b[38;5;28;01mreturn\u001b[39;00m \u001b[38;5;28mself\u001b[39m\u001b[38;5;241m.\u001b[39m_values[label]\n\u001b[1;32m   1115\u001b[0m \u001b[38;5;66;03m# Similar to Index.get_value, but we do not fall back to positional\u001b[39;00m\n\u001b[0;32m-> 1116\u001b[0m loc \u001b[38;5;241m=\u001b[39m \u001b[38;5;28;43mself\u001b[39;49m\u001b[38;5;241;43m.\u001b[39;49m\u001b[43mindex\u001b[49m\u001b[38;5;241;43m.\u001b[39;49m\u001b[43mget_loc\u001b[49m\u001b[43m(\u001b[49m\u001b[43mlabel\u001b[49m\u001b[43m)\u001b[49m\n\u001b[1;32m   1118\u001b[0m \u001b[38;5;28;01mif\u001b[39;00m is_integer(loc):\n\u001b[1;32m   1119\u001b[0m     \u001b[38;5;28;01mreturn\u001b[39;00m \u001b[38;5;28mself\u001b[39m\u001b[38;5;241m.\u001b[39m_values[loc]\n",
      "File \u001b[0;32m~/.local/lib/python3.10/site-packages/pandas/core/indexes/base.py:3654\u001b[0m, in \u001b[0;36mIndex.get_loc\u001b[0;34m(self, key)\u001b[0m\n\u001b[1;32m   3652\u001b[0m     \u001b[38;5;28;01mreturn\u001b[39;00m \u001b[38;5;28mself\u001b[39m\u001b[38;5;241m.\u001b[39m_engine\u001b[38;5;241m.\u001b[39mget_loc(casted_key)\n\u001b[1;32m   3653\u001b[0m \u001b[38;5;28;01mexcept\u001b[39;00m \u001b[38;5;167;01mKeyError\u001b[39;00m \u001b[38;5;28;01mas\u001b[39;00m err:\n\u001b[0;32m-> 3654\u001b[0m     \u001b[38;5;28;01mraise\u001b[39;00m \u001b[38;5;167;01mKeyError\u001b[39;00m(key) \u001b[38;5;28;01mfrom\u001b[39;00m \u001b[38;5;21;01merr\u001b[39;00m\n\u001b[1;32m   3655\u001b[0m \u001b[38;5;28;01mexcept\u001b[39;00m \u001b[38;5;167;01mTypeError\u001b[39;00m:\n\u001b[1;32m   3656\u001b[0m     \u001b[38;5;66;03m# If we have a listlike key, _check_indexing_error will raise\u001b[39;00m\n\u001b[1;32m   3657\u001b[0m     \u001b[38;5;66;03m#  InvalidIndexError. Otherwise we fall through and re-raise\u001b[39;00m\n\u001b[1;32m   3658\u001b[0m     \u001b[38;5;66;03m#  the TypeError.\u001b[39;00m\n\u001b[1;32m   3659\u001b[0m     \u001b[38;5;28mself\u001b[39m\u001b[38;5;241m.\u001b[39m_check_indexing_error(key)\n",
      "\u001b[0;31mKeyError\u001b[0m: 'acc_Y_t'"
     ]
    }
   ],
   "source": [
    "# calculate phi and theta from accelerometers data\n",
    "data = translator.calculate_angles_1(data)\n",
    "# apply \"Kalman filter\" to phi and theta calculations (also get psi as an integral)\n",
    "data = kalman.apply_kalman(data, extra=True)\n",
    "\n",
    "# rotate sensors accelerations from sensor frame to earths frame using quaternions\n",
    "data = translator.rotate_acc(data)\n",
    "\n",
    "# get points 3D\n",
    "curve = SensorCurve3D()\n",
    "\n",
    "fun_iter = 0\n",
    "\n",
    "curve.fill_curve(data, 0.001, 9.8159, None)"
   ]
  },
  {
   "cell_type": "code",
   "execution_count": null,
   "id": "62df8afd-4c90-455b-b6af-d0e3ae9223d1",
   "metadata": {},
   "outputs": [],
   "source": [
    "#speed_corrections = {'x': curve.x_speed_last / 8000, 'y': curve.y_speed_last / 8000, 'z': curve.z_speed_last / 8000}\n",
    "#curve.fill_curve(data, 0.001, 9.8159, speed_corrections)"
   ]
  },
  {
   "cell_type": "code",
   "execution_count": null,
   "id": "6830f958-2231-484a-a697-390f060d8e74",
   "metadata": {},
   "outputs": [],
   "source": [
    "def opt_iteration(bias_tab):\n",
    "    global fun_iter\n",
    "    global data\n",
    "    global curve\n",
    "    global kalman\n",
    "    fun_iter += 1\n",
    "\n",
    "    print('Iteration: ', fun_iter)\n",
    "    print('Input: ', bias_tab)\n",
    "    # apply new bias to input data\n",
    "    bias.change_bias_acc_linear(bias_tab[0], bias_tab[1], bias_tab[2], bias_tab[3], bias_tab[4], bias_tab[5])\n",
    "    # bias.change_bias_gyro_const(bias_tab[3], bias_tab[4], bias_tab[5])\n",
    "    # g_temp= bias_tab[6]\n",
    "    g_temp = 9.8159\n",
    "    bias.apply_bias(data)\n",
    "    # recalculate Kalman\n",
    "    data = translator.calculate_angles_1(data)\n",
    "    data = kalman.apply_kalman(data)\n",
    "    data = translator.rotate_acc(data)\n",
    "    curve.fill_curve(data, 0.001, g_temp)\n",
    "    speed_arg = curve.x_speed_last ** 2 + curve.y_speed_last ** 2 + curve.z_speed_last ** 2\n",
    "    pos_arg = curve.x_point_last ** 2 + curve.y_point_last ** 2 + curve.z_point_last ** 2\n",
    "    deg_arg = kalman.psi_hat ** 2\n",
    "    acc_arg = (curve.acc_last - 9.8159) ** 2\n",
    "    out = speed_arg + acc_arg * 10000  # + pos_arg# + deg_arg\n",
    "    print('Output: ', out, ' G_fin: ', curve.acc_last)\n",
    "    return out"
   ]
  },
  {
   "cell_type": "code",
   "execution_count": null,
   "id": "89fe2d39-269d-4595-b1fe-d42f39038bcc",
   "metadata": {},
   "outputs": [],
   "source": [
    "# run single opt iteration\n",
    "x_0 = array([bias.bias_linear['a_x_acc'], bias.bias_linear['a_y_acc'], bias.bias_linear['a_z_acc'],\n",
    "                bias.bias_linear['b_x_acc'], bias.bias_linear['b_y_acc'], bias.bias_linear['b_z_acc']])\n",
    "# x_0 = np.array([bias.bias_const['x_acc'], bias.bias_const['y_acc'], bias.bias_const['z_acc']])\n",
    "#                bias.bias_const['x_gyro'], bias.bias_const['y_gyro'], bias.bias_const['z_gyro']])\n",
    "# x_0 = np.array([-0.6,-0.6,-0.6,-0.4,-0.4,-0.4])\n",
    "# func = opt_iteration(x_0)\n",
    "# print(func)\n",
    "# minimize(opt_iteration, x_0, method='L-BFGS-B', bounds=[(-0.6, 0.6), (-0.6, 0.6), (-0.6, 0.6) ,(-0.4, 0.4), (-0.4, 0.4), (-0.4, 0.4)],\n",
    "#         options={'maxfun': 100, 'eps': 0.0001, 'ftol': 0.001, 'iprint': 0})\n",
    "\n",
    "# minimize(opt_iteration, x_0, method='L-BFGS-B',  # method='TNC',\n",
    "#         bounds=[(0.98, 1.02), (0.98, 1.02), (0.98, 1.02), (-0.15, 0.15), (-0.15, 0.15), (-0.15, 0.15)],\n",
    "#         options={'maxiter': 100, 'eps': 0.0001, 'ftol': 0.001})"
   ]
  },
  {
   "cell_type": "code",
   "execution_count": null,
   "id": "76902d26-fe23-476d-bf38-6965ba8466ff",
   "metadata": {},
   "outputs": [],
   "source": [
    "data.set_index('mean_time_rel', inplace=True)\n",
    "with pd.option_context('display.max_rows', None, 'display.max_columns', None,\n",
    "                       'display.precision', 3,\n",
    "                       ):\n",
    "    print(data.describe())"
   ]
  },
  {
   "cell_type": "code",
   "execution_count": null,
   "id": "aecf8ff5-e209-4200-aa63-af3ff3e0a564",
   "metadata": {},
   "outputs": [],
   "source": [
    "# Use dark theme for plots\n",
    "plt.style.use('dark_background')\n",
    "\n",
    "# Set up plot figure (canvas)\n",
    "figure, axis = plt.subplots(3, 4,figsize=(14,8),gridspec_kw={'width_ratios': [2.6, 1,2.6,1]})\n",
    "\n",
    "# First plot - Output estimate covariance\n",
    "axis[0, 0].plot(data.index, data['P_0_0'], label='P_0_0')\n",
    "axis[0, 0].plot(data.index, data['P_1_1'], label='P_1_1')\n",
    "axis[0, 0].plot(data.index, data['P_2_2'], label='P_2_2')\n",
    "axis[0, 0].plot(data.index, data['P_3_3'], label='P_3_3')\n",
    "#axis[0, 0].plot(data.index, data['mean_acc_X'], label='sensor X raw')\n",
    "#axis[0, 0].plot(data.index, data['mean_acc_Y'], label='sensor Y raw')\n",
    "#axis[0, 0].plot(data.index, data['mean_acc_Z'], label='sensor Z raw')\n",
    "axis[0, 0].set_title('Kalman output Covariance')\n",
    "axis[0, 0].set_xlabel('time [s]')\n",
    "axis[0, 0].set_ylabel('Covariance [1]')\n",
    "# Set legend next to plot\n",
    "h_0_0,l_0_0 = axis[0,0].get_legend_handles_labels()\n",
    "axis[0,1].legend(h_0_0,l_0_0,borderaxespad=0, mode='expand', loc='center', fontsize='small',frameon=False)\n",
    "axis[0,1].axis(\"tight\")\n",
    "axis[0,1].axis(\"off\")\n",
    "\n",
    "\n",
    "\n",
    "# Second plot - Gyroscope data\n",
    "axis[0, 2].plot(data.index, data['R'], label='Measurement\\n covariance used')\n",
    "axis[0, 2].set_title('Measurement covariance used')\n",
    "axis[0, 2].set_xlabel('time [s]')\n",
    "axis[0, 2].set_ylabel('Covariance [1]')\n",
    "# Set legend next to plot\n",
    "h_0_2,l_0_2 = axis[0,2].get_legend_handles_labels()\n",
    "axis[0,3].legend(h_0_2,l_0_2,borderaxespad=0, loc='center left', fontsize='small',frameon=False)\n",
    "axis[0,3].axis(\"tight\")\n",
    "axis[0,3].axis(\"off\")\n",
    "\n",
    "\n",
    "# Third plot - Phi angle\n",
    "axis[1, 0].plot(data.index, data['acc_phi'] * 180 / pi, label='Phi angle (from\\nacceleration)')\n",
    "axis[1, 0].plot(data.index, data['phi_hat'] * 180 / pi, label='Phi angle (from\\nKalman)')\n",
    "axis[1, 0].plot(data.index, data['int_phi'] * 180 / pi, label='Phi angle (from\\nintegration)')\n",
    "#axis[1, 0].plot(data.index, data['g_ground'], label='ground acceleration')\n",
    "axis[1, 0].set_title('Phi angle comparison')\n",
    "axis[1, 0].set_xlabel('time [s]')\n",
    "axis[1, 0].set_ylabel('angle [deg]')\n",
    "# Set legend next to plot\n",
    "h_1_0,l_1_0 = axis[1,0].get_legend_handles_labels()\n",
    "axis[1,1].legend(h_1_0,l_1_0,borderaxespad=0, loc='center left', fontsize='small',frameon=False)\n",
    "axis[1,1].axis(\"tight\")\n",
    "axis[1,1].axis(\"off\")\n",
    "\n",
    "\n",
    "# Fourth plot - Theta angle\n",
    "axis[1, 2].plot(data.index, data['acc_theta'] * 180 / pi, label='Theta angle (from\\nacceleration)')\n",
    "axis[1, 2].plot(data.index, data['theta_hat'] * 180 / pi, label='Theta angle (from\\nKalman)')\n",
    "axis[1, 2].plot(data.index, data['int_theta'] * 180 / pi, label='Theta angle (from\\nintegration)')\n",
    "axis[1, 2].set_title('Theta angle comparison')\n",
    "axis[1, 2].set_xlabel('time [s]')\n",
    "axis[1, 2].set_ylabel('angle [deg]')\n",
    "# Set legend next to plot\n",
    "h_1_2,l_1_2 = axis[1,2].get_legend_handles_labels()\n",
    "axis[1,3].legend(h_1_2,l_1_2,borderaxespad=0, loc='center left', fontsize='small',frameon=False)\n",
    "axis[1,3].axis(\"tight\")\n",
    "axis[1,3].axis(\"off\")\n",
    "\n",
    "\n",
    "#Fifth plot - Psi angle from acceleration integration\n",
    "axis[2, 0].plot(data.index, data['psi_hat'] * 180 / pi, label='Psi angle (from\\nintegration)')\n",
    "axis[2, 0].set_title('Euler angles (yaw)')\n",
    "axis[2, 0].set_xlabel('time [s]')\n",
    "axis[2, 0].set_ylabel('angle [deg]')\n",
    "# Set legend next to plot\n",
    "h_2_0,l_2_0 = axis[2,0].get_legend_handles_labels()\n",
    "axis[2,1].legend(h_2_0,l_2_0,borderaxespad=0, loc='center left', fontsize='small',frameon=False)\n",
    "axis[2,1].axis(\"tight\")\n",
    "axis[2,1].axis(\"off\")\n",
    "\n",
    "\n",
    "# Sixth plot - Raw sensor acceleration data + bias compensation\n",
    "axis[2, 2].plot(data.index, data['mean_acc_X_b'], label='Measured\\nX linear\\nacceleration\\n')\n",
    "axis[2, 2].plot(data.index, data['mean_acc_Y_b'], label='Measured\\nY linear\\nacceleration\\n')\n",
    "axis[2, 2].plot(data.index, data['mean_acc_Z_b'], label='Measured\\nZ linear\\nacceleration\\n')\n",
    "#axis[0, 0].plot(data.index, data['mean_acc_X'], label='sensor X raw')\n",
    "#axis[0, 0].plot(data.index, data['mean_acc_Y'], label='sensor Y raw')\n",
    "#axis[0, 0].plot(data.index, data['mean_acc_Z'], label='sensor Z raw')\n",
    "axis[2, 2].set_title('Sensor measured linear acceleration (compensated)')\n",
    "axis[2, 2].set_xlabel('time [s]')\n",
    "axis[2, 2].set_ylabel('acceleration [m/s^2]')\n",
    "# Set legend next to plot\n",
    "h_2_2,l_2_2 = axis[2,2].get_legend_handles_labels()\n",
    "axis[2,3].legend(h_2_2,l_2_2,borderaxespad=0, loc='center left', fontsize='small',frameon=False)\n",
    "axis[2,3].axis(\"tight\")\n",
    "axis[2,3].axis(\"off\")\n",
    "figure.subplots_adjust(left=0.05,\n",
    "                    bottom=0.06, \n",
    "                    right=0.98, \n",
    "                    top=0.97, \n",
    "                    wspace=0.03, \n",
    "                    hspace=0.4)\n",
    "#plt.subplot_tool()\n",
    "#figure.tight_layout(pad=0.1, w_pad=0, h_pad=0.01)\n"
   ]
  },
  {
   "cell_type": "code",
   "execution_count": null,
   "id": "8a75aeba-242c-48ef-b489-b73866a8a7e2",
   "metadata": {},
   "outputs": [],
   "source": [
    "# Use dark theme for plots\n",
    "plt.style.use('dark_background')\n",
    "\n",
    "# Set up plot figure (canvas)\n",
    "figure, axis = plt.subplots(3, 4,figsize=(14,8),gridspec_kw={'width_ratios': [2.6, 1,2.6,1]})\n",
    "\n",
    "# First plot - Raw sensor acceleration data + bias compensation\n",
    "axis[0, 0].plot(data.index, data['mean_acc_X_b'], label='Measured\\nX linear\\nacceleration\\n')\n",
    "axis[0, 0].plot(data.index, data['mean_acc_Y_b'], label='Measured\\nY linear\\nacceleration\\n')\n",
    "axis[0, 0].plot(data.index, data['mean_acc_Z_b'], label='Measured\\nZ linear\\nacceleration\\n')\n",
    "#axis[0, 0].plot(data.index, data['mean_acc_X'], label='sensor X raw')\n",
    "#axis[0, 0].plot(data.index, data['mean_acc_Y'], label='sensor Y raw')\n",
    "#axis[0, 0].plot(data.index, data['mean_acc_Z'], label='sensor Z raw')\n",
    "axis[0, 0].set_title('Sensor measured linear acceleration (compensated)')\n",
    "axis[0, 0].set_xlabel('time [s]')\n",
    "axis[0, 0].set_ylabel('acceleration [m/s^2]')\n",
    "# Set legend next to plot\n",
    "h_0_0,l_0_0 = axis[0,0].get_legend_handles_labels()\n",
    "axis[0,1].legend(h_0_0,l_0_0,borderaxespad=0, mode='expand', loc='center', fontsize='small',frameon=False)\n",
    "axis[0,1].axis(\"tight\")\n",
    "axis[0,1].axis(\"off\")\n",
    "\n",
    "\n",
    "\n",
    "# Second plot - Gyroscope data\n",
    "axis[0, 2].plot(data.index, data['mean_gyro_X_b'], label='Measured\\nX rotation\\n')\n",
    "axis[0, 2].plot(data.index, data['mean_gyro_Y_b'], label='Measured\\nY rotation\\n')\n",
    "axis[0, 2].plot(data.index, data['mean_gyro_Z_b'], label='Measured\\nZ rotation\\n')\n",
    "axis[0, 2].set_title('Sensor measured rotation speed (compensated)')\n",
    "axis[0, 2].set_xlabel('time [s]')\n",
    "axis[0, 2].set_ylabel('rotation [deg/s]')\n",
    "# Set legend next to plot\n",
    "h_0_2,l_0_2 = axis[0,2].get_legend_handles_labels()\n",
    "axis[0,3].legend(h_0_2,l_0_2,borderaxespad=0, loc='center left', fontsize='small',frameon=False)\n",
    "axis[0,3].axis(\"tight\")\n",
    "axis[0,3].axis(\"off\")\n",
    "\n",
    "\n",
    "# Third plot - Total acceleration (for checking whwther if translations work)\n",
    "axis[1, 0].plot(data.index, data['g_sensor'], label='Measured\\ntotal linear\\nacceleration')\n",
    "#axis[1, 0].plot(data.index, data['g_ground'], label='ground acceleration')\n",
    "axis[1, 0].set_title('Sensor measured linear acceleration (total)')\n",
    "axis[1, 0].set_xlabel('time [s]')\n",
    "axis[1, 0].set_ylabel('acceleration [m/s^2]')\n",
    "# Set legend next to plot\n",
    "h_1_0,l_1_0 = axis[1,0].get_legend_handles_labels()\n",
    "axis[1,1].legend(h_1_0,l_1_0,borderaxespad=0, loc='center left', fontsize='small',frameon=False)\n",
    "axis[1,1].axis(\"tight\")\n",
    "axis[1,1].axis(\"off\")\n",
    "\n",
    "\n",
    "# Fourth plot - Kalman angular input, output\n",
    "axis[1, 2].plot(data.index, data['theta_hat'] * 180 / pi, label='Theta angle (from\\nKalman)')\n",
    "axis[1, 2].plot(data.index, data['phi_hat'] * 180 / pi, label='Phi angle (from\\nKalman)')\n",
    "axis[1, 2].set_title('Euler angles (pitch and roll)')\n",
    "axis[1, 2].set_xlabel('time [s]')\n",
    "axis[1, 2].set_ylabel('angle [deg]')\n",
    "# Set legend next to plot\n",
    "h_1_2,l_1_2 = axis[1,2].get_legend_handles_labels()\n",
    "axis[1,3].legend(h_1_2,l_1_2,borderaxespad=0, loc='center left', fontsize='small',frameon=False)\n",
    "axis[1,3].axis(\"tight\")\n",
    "axis[1,3].axis(\"off\")\n",
    "\n",
    "\n",
    "#Fifth plot - Phi angle from acceleration integration\n",
    "axis[2, 0].plot(data.index, data['psi_hat'] * 180 / pi, label='Psi angle (from\\nintegration)')\n",
    "axis[2, 0].set_title('Euler angles (yaw)')\n",
    "axis[2, 0].set_xlabel('time [s]')\n",
    "axis[2, 0].set_ylabel('angle [deg]')\n",
    "# Set legend next to plot\n",
    "h_2_0,l_2_0 = axis[2,0].get_legend_handles_labels()\n",
    "axis[2,1].legend(h_2_0,l_2_0,borderaxespad=0, loc='center left', fontsize='small',frameon=False)\n",
    "axis[2,1].axis(\"tight\")\n",
    "axis[2,1].axis(\"off\")\n",
    "\n",
    "\n",
    "# Sixth plot ground frame linear acceleration\n",
    "axis[2, 2].plot(data.index, data['acc_X_e'], label='Ground\\nX linear\\nacceleration')\n",
    "axis[2, 2].plot(data.index, data['acc_Y_e'], label='Ground\\nY linear\\nacceleration')\n",
    "# axis[2, 1].plot(data.index, data['acc_Z_e'] - 9.8159, label='ground Z')\n",
    "axis[2, 2].plot(data.index, data['acc_Z_e']-9.8159, label='Ground\\nZ linear\\nacceleration')\n",
    "axis[2, 2].set_title('Linear acceleration in ground frame')\n",
    "axis[2, 2].set_xlabel('time [s]')\n",
    "axis[2, 2].set_ylabel('acceleration [m/s^2]')\n",
    "# Set legend next to plot\n",
    "h_2_2,l_2_2 = axis[2,2].get_legend_handles_labels()\n",
    "axis[2,3].legend(h_2_2,l_2_2,borderaxespad=0, loc='center left', fontsize='small',frameon=False)\n",
    "axis[2,3].axis(\"tight\")\n",
    "axis[2,3].axis(\"off\")\n",
    "figure.subplots_adjust(left=0.05,\n",
    "                    bottom=0.06, \n",
    "                    right=0.98, \n",
    "                    top=0.97, \n",
    "                    wspace=0.03, \n",
    "                    hspace=0.4)\n",
    "#plt.subplot_tool()\n",
    "#figure.tight_layout(pad=0.1, w_pad=0, h_pad=0.01)\n"
   ]
  },
  {
   "cell_type": "code",
   "execution_count": null,
   "id": "ac701842-9792-4d73-9979-8a2b70bd0bc2",
   "metadata": {},
   "outputs": [],
   "source": [
    "ax1 = plt.figure().add_subplot(projection='3d')\n",
    "ax1.plot(curve.x_point_list, curve.y_point_list, curve.z_point_list, label='position curve')\n",
    "ax1.set_xlabel('position X [m]')\n",
    "ax1.set_ylabel('position Y [m]')\n",
    "ax1.set_zlabel('position Z [m]')"
   ]
  },
  {
   "cell_type": "code",
   "execution_count": null,
   "id": "fc4b220e-fd55-430f-bcaa-3ca1d97d2365",
   "metadata": {},
   "outputs": [],
   "source": [
    "ax2 = plt.figure().add_subplot(projection='3d')\n",
    "ax2.plot(curve.x_speed_list, curve.y_speed_list, curve.z_speed_list, label='speed curve')\n",
    "ax2.set_xlabel('speed X [m/s]')\n",
    "ax2.set_ylabel('speed Y [m/s]')\n",
    "ax2.set_zlabel('speed Z [m/s]')\n",
    "# data.to_csv('output.csv')\n",
    "\n",
    "# print('Lack of testing code')"
   ]
  },
  {
   "cell_type": "code",
   "execution_count": null,
   "id": "b2b5a78f-e1f4-4583-bdd3-8c92205a5f12",
   "metadata": {},
   "outputs": [],
   "source": []
  }
 ],
 "metadata": {
  "kernelspec": {
   "display_name": "Python 3 (ipykernel)",
   "language": "python",
   "name": "python3"
  },
  "language_info": {
   "codemirror_mode": {
    "name": "ipython",
    "version": 3
   },
   "file_extension": ".py",
   "mimetype": "text/x-python",
   "name": "python",
   "nbconvert_exporter": "python",
   "pygments_lexer": "ipython3",
   "version": "3.10.6"
  },
  "widgets": {
   "application/vnd.jupyter.widget-state+json": {
    "state": {},
    "version_major": 2,
    "version_minor": 0
   }
  }
 },
 "nbformat": 4,
 "nbformat_minor": 5
}
